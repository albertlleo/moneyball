{
  "nbformat": 4,
  "nbformat_minor": 0,
  "metadata": {
    "colab": {
      "name": "IKAUE_Collab_Template.ipynb",
      "provenance": [],
      "collapsed_sections": [
        "YgpppRm_zIw_"
      ],
      "toc_visible": true,
      "include_colab_link": true
    },
    "kernelspec": {
      "display_name": "Python 3",
      "language": "python",
      "name": "python3"
    },
    "language_info": {
      "codemirror_mode": {
        "name": "ipython",
        "version": 3
      },
      "file_extension": ".py",
      "mimetype": "text/x-python",
      "name": "python",
      "nbconvert_exporter": "python",
      "pygments_lexer": "ipython3",
      "version": "3.7.3"
    }
  },
  "cells": [
    {
      "cell_type": "markdown",
      "metadata": {
        "id": "view-in-github",
        "colab_type": "text"
      },
      "source": [
        "<a href=\"https://colab.research.google.com/github/albertlleo/moneyball/blob/master/IKAUE_Collab_Template.ipynb\" target=\"_parent\"><img src=\"https://colab.research.google.com/assets/colab-badge.svg\" alt=\"Open In Colab\"/></a>"
      ]
    },
    {
      "cell_type": "markdown",
      "metadata": {
        "id": "U8tqcdU-lw10"
      },
      "source": [
        "# TEMPLATE EXTRACTIONS FROM GSC, GA, BQ\n",
        "\n",
        "*Extract Google Search Console (GSC) data and upload it to BigQuery* \n",
        "\n",
        "*(C) 2020 IKAUE, Marketing de Optimizacion*\n",
        "\n",
        "*Created by Albert Lleo <albert@ikhuerta.com>*\n",
        "\n",
        "*Created by Joan Enric Garcias <joan@ikhuerta.com>* \n",
        "\n",
        "\n"
      ]
    },
    {
      "cell_type": "markdown",
      "metadata": {
        "id": "WKD8K0hO-eS6"
      },
      "source": [
        "## How-To \n",
        "\n",
        "\n"
      ]
    },
    {
      "cell_type": "markdown",
      "metadata": {
        "id": "JBovPxDpAOGq"
      },
      "source": [
        "Este template está dividido en diferentes módulos: \n",
        "\n",
        "- **Requisitos previos**: Instalación de las librerías necesarias que no incorpora Google Colab para ejecutar el template. Este módulo es imprescindible para poder llevar a cabo las extracciones de GSC.\n",
        "\n",
        "- **Imports**: Importación de todas las librerías necesarias para ejecutar el template. Este módulo es imprescindible para llevar a cabo cualquier extracción.\n",
        "\n",
        "- **Definición de variables**: Definición de todos los campos necesarios para procesar la consulta de datos que se desea, ya sea de GSC, GA y/o BQ.\n",
        "\n",
        "- **Extracciones**: Extracción de los datos que se desean, ya sean de GSC, GA, y/o BQ. El resultado de cada extracción es un dataframe.\n",
        "\n",
        "- **Gráficos**: Agregados y gráficos.\n",
        "\n",
        "\n"
      ]
    },
    {
      "cell_type": "markdown",
      "metadata": {
        "id": "xlXBvru5AVEo"
      },
      "source": [
        "### **Instrucciones**\n",
        "\n",
        "Este template está estructurado en módulos que contienen celdas de texto y de código. A su vez, como los entornos de programación comunes, está enfocado a una ejecución secuencial de las celdas de código. Por tanto, todos los módulos deben ejecutarse en el orden en el que se presentan. Para ejecutar una celda del template se debe hacer click en el botón de “play” de la celda, o abriendo el módulo y una vez hecho click dentro de la celda pulsar shift+intro. Es **IMPORTANTE** destacar la necesidad de **ejecutar una celda despúes de su modificación** para que los cambios efectuados se vean reflejados en el entorno de ejecución. A continuación se presentan las acciones por cada módulo:\n",
        "\n",
        "- **Requisitos previos**: Ejecutar la celda y esperar a que se descargue la librería (puede tardar unos segundos). \n",
        "\n",
        "- **Imports**: Abrir el módulo y ejecutar la primera celda, que contiene las librerías. A continuación, hay que ejecutar todas las celdas del submódulo *Añadir working paths de Google Drive*. En la primera celda nos va a indicar un enlace para iniciar sesión con la cuenta de IKAUE. Una vez iniciada la sesión, nos va a imprimir un código por pantalla que tenemos que copiar y pegar en el espacio que nos habilita la propia celda. Si el inicio de sesión ha sido correcto, al ejecutar la siguiente celda nos tiene que devolver como resultado “ALL CORRECT”. \n",
        "\n",
        "- **Definición de variables**: Se ha dividido este módulo en submódulos dependiendo del tipo de extracción que queramos llevar a cabo (GSC, GA y BQ). Debemos editar las variables correspondientes a la/s extracción/es que queramos llevar a cabo. Una vez definidas las variables que necesitamos, ejecutamos la/s celda/s y pasamos al siguiente módulo.\n",
        "\n",
        "- **Extracciones**: Se ha dividido en submódulos al igual que en el apartado anterior. Simplemente tenemos que ejecutar la celda con el tipo de extracción que nos interese y esperar a que se termine dicha ejecución. Si por algún casual aparece algún error, verificar que las variables correspondientes a la extracción se han definido correctamente.\n",
        "\n",
        "- **Gráficos**: ejecutar todas las celdas del submódulo correspondiente al tipo de extracción que hemos realizado para obtener los gráficos.\n",
        "\n",
        "Para una lectura más cómoda del template, cada módulo y submódulo se puede ocultar y desplegar. De esta forma, se pueden ocultar todos aquellos submódulos que no correspondan a la/s extracción/es realizada/s.\n",
        "\n"
      ]
    },
    {
      "cell_type": "markdown",
      "metadata": {
        "id": "sojqXEZ-oRSk"
      },
      "source": [
        "## Requisitos previos"
      ]
    },
    {
      "cell_type": "code",
      "metadata": {
        "colab": {
          "base_uri": "https://localhost:8080/"
        },
        "id": "VZlT-pdZaOnK",
        "outputId": "14312ea5-aac0-403f-cba3-4f183712bfa6"
      },
      "source": [
        "pip install pycountry\n"
      ],
      "execution_count": 1,
      "outputs": [
        {
          "output_type": "stream",
          "text": [
            "Collecting pycountry\n",
            "\u001b[?25l  Downloading https://files.pythonhosted.org/packages/76/73/6f1a412f14f68c273feea29a6ea9b9f1e268177d32e0e69ad6790d306312/pycountry-20.7.3.tar.gz (10.1MB)\n",
            "\u001b[K     |████████████████████████████████| 10.1MB 12.2MB/s \n",
            "\u001b[?25hBuilding wheels for collected packages: pycountry\n",
            "  Building wheel for pycountry (setup.py) ... \u001b[?25l\u001b[?25hdone\n",
            "  Created wheel for pycountry: filename=pycountry-20.7.3-py2.py3-none-any.whl size=10746863 sha256=363348ab75ad412ab50d7aadf72814b9e856205ddd16ca88d3aeb23e7c9fcb43\n",
            "  Stored in directory: /root/.cache/pip/wheels/33/4e/a6/be297e6b83567e537bed9df4a93f8590ec01c1acfbcd405348\n",
            "Successfully built pycountry\n",
            "Installing collected packages: pycountry\n",
            "Successfully installed pycountry-20.7.3\n"
          ],
          "name": "stdout"
        }
      ]
    },
    {
      "cell_type": "markdown",
      "metadata": {
        "id": "_7bLMX2som5T"
      },
      "source": [
        "## Imports"
      ]
    },
    {
      "cell_type": "code",
      "metadata": {
        "id": "9ndA6U6XFIKc"
      },
      "source": [
        "import pandas as pd\n",
        "from datetime import date, datetime, timedelta\n",
        "\n",
        "import plotly.graph_objects as go\n",
        "from plotly.subplots import make_subplots\n",
        "\n"
      ],
      "execution_count": 2,
      "outputs": []
    },
    {
      "cell_type": "markdown",
      "metadata": {
        "id": "jMGFr44-uJ3k"
      },
      "source": [
        "### Añadir working path de Google Drive"
      ]
    },
    {
      "cell_type": "markdown",
      "metadata": {
        "id": "cr3qMBIjm_vZ"
      },
      "source": [
        "**IMPORTANTE**: VERIFICAR EL DIRECTORIO DE GOOGLE DRIVE"
      ]
    },
    {
      "cell_type": "code",
      "metadata": {
        "id": "zu0JDYW7iBP2",
        "colab": {
          "base_uri": "https://localhost:8080/"
        },
        "outputId": "bf1ecb32-c138-42d6-e1a2-27fa38577595"
      },
      "source": [
        "from google.colab import drive\n",
        "drive.mount('/content/drive')"
      ],
      "execution_count": 3,
      "outputs": [
        {
          "output_type": "stream",
          "text": [
            "Mounted at /content/drive\n"
          ],
          "name": "stdout"
        }
      ]
    },
    {
      "cell_type": "code",
      "metadata": {
        "colab": {
          "base_uri": "https://localhost:8080/"
        },
        "id": "MXItYGxvErpA",
        "outputId": "f909bdae-7fe7-489c-8734-071710bb9950"
      },
      "source": [
        "%cd /content/drive/Shareddrives/IKAUE - DEV/colab-templates/template_collab_albert_joan/Colab\n",
        "\n",
        "\n",
        "import functions_gsc_clean2 as gsc\n",
        "import functions_ga_clean as ga\n",
        "\n",
        "# check scripts\n",
        "gsc.test()\n",
        "ga.test()\n"
      ],
      "execution_count": 4,
      "outputs": [
        {
          "output_type": "stream",
          "text": [
            "/content/drive/Shareddrives/IKAUE - DEV/colab-templates/template_collab_albert_joan/Colab\n",
            "GSC ALL CORRECT!\n",
            "GA ALL CORRECT!\n"
          ],
          "name": "stdout"
        }
      ]
    },
    {
      "cell_type": "markdown",
      "metadata": {
        "id": "1Per4IFIo59V"
      },
      "source": [
        "## Definición de variables"
      ]
    },
    {
      "cell_type": "markdown",
      "metadata": {
        "id": "1dK-GCaUyydo"
      },
      "source": [
        "### GSC"
      ]
    },
    {
      "cell_type": "markdown",
      "metadata": {
        "id": "tEVeifOGa8Zn"
      },
      "source": [
        "**IMPORTANTE**: EJECUTAR CELDA DESPUÉS DE EDITAR"
      ]
    },
    {
      "cell_type": "code",
      "metadata": {
        "id": "0163qvhvo9hx"
      },
      "source": [
        "variables_gsc = {}\n",
        "\n",
        "# credenciales para poder solicitar la extracción \n",
        "json_key_file = \"credentials/ikaue-bb8.json\"\n",
        "\n",
        "# fecha inicial de la extracción \"YYYY-MM-DD\"\n",
        "gsc_date_start = \"2020-12-10\" \n",
        "#gsc_date_start = datetime.strftime(datetime.now() - timedelta(15), \"%Y-%m-%d\") # 3 dias antes a hoy, ya que aun no se han registrado los datos de hoy. Porque 3 dias y no ayer?\n",
        "\n",
        "# fecha final de la extracción \"YYYY-MM-DD\"\n",
        "gsc_date_end = \"2020-12-12\"\n",
        "#gsc_date_end = datetime.strftime(datetime.now() - timedelta(10), \"%Y-%m-%d\")\n",
        "\n",
        "# nombre de la tabla\n",
        "bq_table = \"ikhuerta_blog\"\n",
        "\n",
        "# dominio de GSC\n",
        "gsc_domain = \"http://blog.ikhuerta.com/\"\n",
        "\n",
        "# web, image, video, news\n",
        "gsc_scope = \"web\"\n",
        "\n",
        "# filtros\n",
        "gsc_dimension_filters = \"\"\n",
        "\n",
        "# límite de filas \n",
        "gsc_row_limit = 10000\n",
        "\n",
        "\n",
        "# variables para la extracción de GSC (NO MODIFICAR)\n",
        "variables_gsc[\"json_key_file\"] = json_key_file\n",
        "variables_gsc[\"gsc_date_start\"] = gsc_date_start \n",
        "variables_gsc[\"gsc_date_end\"] = gsc_date_end\n",
        "variables_gsc[\"bq_table\"] = bq_table\n",
        "variables_gsc[\"gsc_domain\"] = gsc_domain\n",
        "variables_gsc[\"gsc_scope\"] = gsc_scope\n",
        "variables_gsc[\"gsc_dimension_filters\"] = gsc_dimension_filters\n",
        "variables_gsc[\"gsc_row_limit\"] = gsc_row_limit\n",
        "\n"
      ],
      "execution_count": 5,
      "outputs": []
    },
    {
      "cell_type": "markdown",
      "metadata": {
        "id": "BamTzI8qzOXe"
      },
      "source": [
        "### GA"
      ]
    },
    {
      "cell_type": "markdown",
      "metadata": {
        "id": "JIVHuTbVbNp_"
      },
      "source": [
        "**IMPORTANTE**: EJECUTAR CELDA DESPUÉS DE EDITAR"
      ]
    },
    {
      "cell_type": "code",
      "metadata": {
        "id": "OEQx5s_Se62z"
      },
      "source": [
        "# credenciales solicitud extracción \n",
        "json_key_file = \"credentials/ikaue-bb8.json\"\n",
        "\n",
        "# fecha inicial extracción \"YYYY-MM-DD\"\n",
        "#ga_date_start = datetime.strftime(datetime.now() - timedelta(3), \"%Y-%m-%d\")\n",
        "ga_date_start = \"2020-12-10\"\n",
        "\n",
        "# fecha final extracción \"YYYY-MM-DD\"\n",
        "#ga_date_end = datetime.strftime(datetime.now() - timedelta(1), \"%Y-%m-%d\")\n",
        "ga_date_end = \"2020-12-12\"\n",
        "\n",
        "# dimensiones GA\n",
        "#ga_dimensions = [\"landingPagePath\", \"date\", \"deviceCategory\", \"landingContentGroup3\", \"landingContentGroup5\", \"channelGrouping\"]\n",
        "ga_dimensions = [\"landingPagePath\", \"date\"]\n",
        "ga_dimensions_filters = {}\n",
        "\n",
        "# métricas GA\n",
        "#ga_metrics = [\"sessions\", \"transactions\", \"transactionRevenue\", \"revenuePerItem\", \"bounces\", \"users\", \"newUsers\", \"pageviews\"]\n",
        "ga_metrics = [\"sessions\", \"transactions\"]\n",
        "\n",
        "# filtros GA\n",
        "ga_metrics_filters = {}\n",
        "\n",
        "# límite filas\n",
        "ga_row_limit = 100000\n",
        "\n",
        "# segmentos\n",
        "ga_segments = []\n",
        "\n",
        "# orden\n",
        "ga_sort = []\n",
        "\n",
        "# identificador\n",
        "ga_view_id = \"109200988\"\n",
        "\n",
        "\n",
        "# variables para la extracción de GA (NO MODIFICAR)\n",
        "variables_ga = {'json_key_file':json_key_file,\n",
        "                'ga_dimensions':ga_dimensions, 'ga_dimensions_filters':ga_dimensions_filters,\n",
        "                'ga_date_start':ga_date_start, 'ga_date_end':ga_date_end,\n",
        "                'ga_metrics':ga_metrics, 'ga_metrics_filters':ga_metrics_filters,\n",
        "                'ga_row_limit':ga_row_limit, 'ga_segments':ga_segments, 'ga_sort':ga_sort, 'ga_view_id':ga_view_id}\n",
        "\n"
      ],
      "execution_count": 6,
      "outputs": []
    },
    {
      "cell_type": "markdown",
      "metadata": {
        "id": "E1NbviOhzRXN"
      },
      "source": [
        "### BQ\n"
      ]
    },
    {
      "cell_type": "markdown",
      "metadata": {
        "id": "HvM5XF3Xotj4"
      },
      "source": [
        "## Extracciones"
      ]
    },
    {
      "cell_type": "markdown",
      "metadata": {
        "id": "WYB5lUwdy39I"
      },
      "source": [
        "### GSC"
      ]
    },
    {
      "cell_type": "markdown",
      "metadata": {
        "id": "0Tp4gGmNbUQT"
      },
      "source": [
        "**IMPORTANTE**: VERIFICAR VARIABLES GSC ANTES DE EJECUTAR"
      ]
    },
    {
      "cell_type": "code",
      "metadata": {
        "id": "er8pUN1SBOGI",
        "colab": {
          "base_uri": "https://localhost:8080/"
        },
        "outputId": "f2973cd9-8512-4eff-97e4-dae2a70650d6"
      },
      "source": [
        "df_gsc_summary, df_gsc_onlypages, df_gsc_detail = gsc.gsc_extraction(variables_gsc)\n"
      ],
      "execution_count": 7,
      "outputs": [
        {
          "output_type": "stream",
          "text": [
            "2021-05-12 13:52:29 -> 2020-12-12 -> 'http://blog.ikhuerta.com/' -> date device country -> sc_ikhuerta_blog_web_summary_20201212\n",
            "2021-05-12 13:52:35 -> 2020-12-12 -> 'http://blog.ikhuerta.com/' -> date page -> sc_ikhuerta_blog_web_onlypages_20201212\n",
            "2021-05-12 13:52:41 -> 2020-12-12 -> 'http://blog.ikhuerta.com/' -> date query page device country -> sc_ikhuerta_blog_web_detail_20201212\n",
            "2021-05-12 13:52:47 -> 2020-12-11 -> 'http://blog.ikhuerta.com/' -> date device country -> sc_ikhuerta_blog_web_summary_20201211\n",
            "2021-05-12 13:52:52 -> 2020-12-11 -> 'http://blog.ikhuerta.com/' -> date page -> sc_ikhuerta_blog_web_onlypages_20201211\n",
            "2021-05-12 13:52:58 -> 2020-12-11 -> 'http://blog.ikhuerta.com/' -> date query page device country -> sc_ikhuerta_blog_web_detail_20201211\n",
            "2021-05-12 13:53:05 -> 2020-12-10 -> 'http://blog.ikhuerta.com/' -> date device country -> sc_ikhuerta_blog_web_summary_20201210\n",
            "2021-05-12 13:53:10 -> 2020-12-10 -> 'http://blog.ikhuerta.com/' -> date page -> sc_ikhuerta_blog_web_onlypages_20201210\n",
            "2021-05-12 13:53:16 -> 2020-12-10 -> 'http://blog.ikhuerta.com/' -> date query page device country -> sc_ikhuerta_blog_web_detail_20201210\n"
          ],
          "name": "stdout"
        }
      ]
    },
    {
      "cell_type": "markdown",
      "metadata": {
        "id": "ECf65TUYzB0P"
      },
      "source": [
        "### GA"
      ]
    },
    {
      "cell_type": "markdown",
      "metadata": {
        "id": "V0si1SlEblko"
      },
      "source": [
        "**IMPORTANTE**: VERIFICAR VARIABLES GA ANTES DE EJECUTAR"
      ]
    },
    {
      "cell_type": "code",
      "metadata": {
        "id": "17vNPh7FzGAv",
        "colab": {
          "base_uri": "https://localhost:8080/"
        },
        "outputId": "33b5c172-5287-4e07-aab2-d70d7405e05f"
      },
      "source": [
        "df_ga = ga.ga_extraction(variables_ga)"
      ],
      "execution_count": 8,
      "outputs": [
        {
          "output_type": "stream",
          "text": [
            "2021-05-12 13:53:22 -> 2020-12-12 d[landingPagePath,date] m[sessions,transactions]\n",
            "2021-05-12 13:53:29 -> 2020-12-11 d[landingPagePath,date] m[sessions,transactions]\n",
            "2021-05-12 13:53:36 -> 2020-12-10 d[landingPagePath,date] m[sessions,transactions]\n"
          ],
          "name": "stdout"
        }
      ]
    },
    {
      "cell_type": "markdown",
      "metadata": {
        "id": "YgpppRm_zIw_"
      },
      "source": [
        "### BQ\n"
      ]
    },
    {
      "cell_type": "code",
      "metadata": {
        "id": "Qjt2T5yQzLyo"
      },
      "source": [
        "#df = functions.bq(variables)\n"
      ],
      "execution_count": 9,
      "outputs": []
    },
    {
      "cell_type": "markdown",
      "metadata": {
        "id": "fxnM5BvblE5P"
      },
      "source": [
        "## Vista previa de los datos"
      ]
    },
    {
      "cell_type": "markdown",
      "metadata": {
        "id": "2FAPtSMClJ8J"
      },
      "source": [
        "### GSC"
      ]
    },
    {
      "cell_type": "markdown",
      "metadata": {
        "id": "zHz4mgKsmgfx"
      },
      "source": [
        "#### Summary"
      ]
    },
    {
      "cell_type": "code",
      "metadata": {
        "colab": {
          "base_uri": "https://localhost:8080/",
          "height": 204
        },
        "id": "T9iALk_alZIa",
        "outputId": "79c9b97e-49eb-430f-ad4d-5e42e32d8f3f"
      },
      "source": [
        "# SUMMARY \n",
        "df_gsc_summary.head()"
      ],
      "execution_count": 10,
      "outputs": [
        {
          "output_type": "execute_result",
          "data": {
            "text/html": [
              "<div>\n",
              "<style scoped>\n",
              "    .dataframe tbody tr th:only-of-type {\n",
              "        vertical-align: middle;\n",
              "    }\n",
              "\n",
              "    .dataframe tbody tr th {\n",
              "        vertical-align: top;\n",
              "    }\n",
              "\n",
              "    .dataframe thead th {\n",
              "        text-align: right;\n",
              "    }\n",
              "</style>\n",
              "<table border=\"1\" class=\"dataframe\">\n",
              "  <thead>\n",
              "    <tr style=\"text-align: right;\">\n",
              "      <th></th>\n",
              "      <th>date</th>\n",
              "      <th>device</th>\n",
              "      <th>country</th>\n",
              "      <th>countryName</th>\n",
              "      <th>impressions</th>\n",
              "      <th>clicks</th>\n",
              "      <th>position</th>\n",
              "      <th>ctr</th>\n",
              "    </tr>\n",
              "  </thead>\n",
              "  <tbody>\n",
              "    <tr>\n",
              "      <th>0</th>\n",
              "      <td>2020-12-12</td>\n",
              "      <td>DESKTOP</td>\n",
              "      <td>esp</td>\n",
              "      <td>Spain</td>\n",
              "      <td>2328</td>\n",
              "      <td>57</td>\n",
              "      <td>21.123711</td>\n",
              "      <td>0.024485</td>\n",
              "    </tr>\n",
              "    <tr>\n",
              "      <th>1</th>\n",
              "      <td>2020-12-12</td>\n",
              "      <td>DESKTOP</td>\n",
              "      <td>mex</td>\n",
              "      <td>Mexico</td>\n",
              "      <td>917</td>\n",
              "      <td>23</td>\n",
              "      <td>16.402399</td>\n",
              "      <td>0.025082</td>\n",
              "    </tr>\n",
              "    <tr>\n",
              "      <th>2</th>\n",
              "      <td>2020-12-12</td>\n",
              "      <td>DESKTOP</td>\n",
              "      <td>per</td>\n",
              "      <td>Peru</td>\n",
              "      <td>633</td>\n",
              "      <td>21</td>\n",
              "      <td>10.909953</td>\n",
              "      <td>0.033175</td>\n",
              "    </tr>\n",
              "    <tr>\n",
              "      <th>3</th>\n",
              "      <td>2020-12-12</td>\n",
              "      <td>DESKTOP</td>\n",
              "      <td>col</td>\n",
              "      <td>Colombia</td>\n",
              "      <td>636</td>\n",
              "      <td>11</td>\n",
              "      <td>15.215409</td>\n",
              "      <td>0.017296</td>\n",
              "    </tr>\n",
              "    <tr>\n",
              "      <th>4</th>\n",
              "      <td>2020-12-12</td>\n",
              "      <td>MOBILE</td>\n",
              "      <td>esp</td>\n",
              "      <td>Spain</td>\n",
              "      <td>464</td>\n",
              "      <td>10</td>\n",
              "      <td>16.480603</td>\n",
              "      <td>0.021552</td>\n",
              "    </tr>\n",
              "  </tbody>\n",
              "</table>\n",
              "</div>"
            ],
            "text/plain": [
              "         date   device country  ... clicks   position       ctr\n",
              "0  2020-12-12  DESKTOP     esp  ...     57  21.123711  0.024485\n",
              "1  2020-12-12  DESKTOP     mex  ...     23  16.402399  0.025082\n",
              "2  2020-12-12  DESKTOP     per  ...     21  10.909953  0.033175\n",
              "3  2020-12-12  DESKTOP     col  ...     11  15.215409  0.017296\n",
              "4  2020-12-12   MOBILE     esp  ...     10  16.480603  0.021552\n",
              "\n",
              "[5 rows x 8 columns]"
            ]
          },
          "metadata": {
            "tags": []
          },
          "execution_count": 10
        }
      ]
    },
    {
      "cell_type": "code",
      "metadata": {
        "colab": {
          "base_uri": "https://localhost:8080/"
        },
        "id": "plhMGf41lZsY",
        "outputId": "04bbca98-8ed3-41da-e66a-20b8d071f258"
      },
      "source": [
        "# SUMMARY\n",
        "df_gsc_summary.dtypes"
      ],
      "execution_count": 11,
      "outputs": [
        {
          "output_type": "execute_result",
          "data": {
            "text/plain": [
              "date            object\n",
              "device          object\n",
              "country         object\n",
              "countryName     object\n",
              "impressions      int64\n",
              "clicks           int64\n",
              "position       float64\n",
              "ctr            float64\n",
              "dtype: object"
            ]
          },
          "metadata": {
            "tags": []
          },
          "execution_count": 11
        }
      ]
    },
    {
      "cell_type": "code",
      "metadata": {
        "colab": {
          "base_uri": "https://localhost:8080/"
        },
        "id": "L1HPK07alaGJ",
        "outputId": "69ec47a4-8096-455e-a1a8-16a644d641b2"
      },
      "source": [
        "# SUMMARY\n",
        "print('rows summary =',df_gsc_summary.shape[0])\n",
        "print('columns summary =',df_gsc_summary.shape[1])"
      ],
      "execution_count": 12,
      "outputs": [
        {
          "output_type": "stream",
          "text": [
            "rows summary = 795\n",
            "columns summary = 8\n"
          ],
          "name": "stdout"
        }
      ]
    },
    {
      "cell_type": "markdown",
      "metadata": {
        "id": "U7vnJlCGmmGJ"
      },
      "source": [
        "#### Onlypages"
      ]
    },
    {
      "cell_type": "code",
      "metadata": {
        "colab": {
          "base_uri": "https://localhost:8080/",
          "height": 204
        },
        "id": "c6AJ_S1Fla0Q",
        "outputId": "b138bc6f-f415-4e9e-9836-04bbb893fd94"
      },
      "source": [
        "# ONLYPAGES\n",
        "df_gsc_onlypages.head()"
      ],
      "execution_count": 14,
      "outputs": [
        {
          "output_type": "execute_result",
          "data": {
            "text/html": [
              "<div>\n",
              "<style scoped>\n",
              "    .dataframe tbody tr th:only-of-type {\n",
              "        vertical-align: middle;\n",
              "    }\n",
              "\n",
              "    .dataframe tbody tr th {\n",
              "        vertical-align: top;\n",
              "    }\n",
              "\n",
              "    .dataframe thead th {\n",
              "        text-align: right;\n",
              "    }\n",
              "</style>\n",
              "<table border=\"1\" class=\"dataframe\">\n",
              "  <thead>\n",
              "    <tr style=\"text-align: right;\">\n",
              "      <th></th>\n",
              "      <th>date</th>\n",
              "      <th>page</th>\n",
              "      <th>impressions</th>\n",
              "      <th>clicks</th>\n",
              "      <th>position</th>\n",
              "      <th>ctr</th>\n",
              "    </tr>\n",
              "  </thead>\n",
              "  <tbody>\n",
              "    <tr>\n",
              "      <th>0</th>\n",
              "      <td>2020-12-12</td>\n",
              "      <td>http://blog.ikhuerta.com/transforma-tu-web-en-...</td>\n",
              "      <td>674</td>\n",
              "      <td>36</td>\n",
              "      <td>20.715134</td>\n",
              "      <td>0.053412</td>\n",
              "    </tr>\n",
              "    <tr>\n",
              "      <th>1</th>\n",
              "      <td>2020-12-12</td>\n",
              "      <td>http://blog.ikhuerta.com/sincronizar-datos-ent...</td>\n",
              "      <td>1308</td>\n",
              "      <td>17</td>\n",
              "      <td>13.237003</td>\n",
              "      <td>0.012997</td>\n",
              "    </tr>\n",
              "    <tr>\n",
              "      <th>2</th>\n",
              "      <td>2020-12-12</td>\n",
              "      <td>http://blog.ikhuerta.com/maquetacion-seo-en-ht...</td>\n",
              "      <td>661</td>\n",
              "      <td>15</td>\n",
              "      <td>20.242057</td>\n",
              "      <td>0.022693</td>\n",
              "    </tr>\n",
              "    <tr>\n",
              "      <th>3</th>\n",
              "      <td>2020-12-12</td>\n",
              "      <td>http://blog.ikhuerta.com/crear-un-bot-sencillo...</td>\n",
              "      <td>143</td>\n",
              "      <td>13</td>\n",
              "      <td>19.615385</td>\n",
              "      <td>0.090909</td>\n",
              "    </tr>\n",
              "    <tr>\n",
              "      <th>4</th>\n",
              "      <td>2020-12-12</td>\n",
              "      <td>http://blog.ikhuerta.com/12-cosas-que-deberias...</td>\n",
              "      <td>234</td>\n",
              "      <td>9</td>\n",
              "      <td>45.452991</td>\n",
              "      <td>0.038462</td>\n",
              "    </tr>\n",
              "  </tbody>\n",
              "</table>\n",
              "</div>"
            ],
            "text/plain": [
              "         date  ...       ctr\n",
              "0  2020-12-12  ...  0.053412\n",
              "1  2020-12-12  ...  0.012997\n",
              "2  2020-12-12  ...  0.022693\n",
              "3  2020-12-12  ...  0.090909\n",
              "4  2020-12-12  ...  0.038462\n",
              "\n",
              "[5 rows x 6 columns]"
            ]
          },
          "metadata": {
            "tags": []
          },
          "execution_count": 14
        }
      ]
    },
    {
      "cell_type": "code",
      "metadata": {
        "colab": {
          "base_uri": "https://localhost:8080/"
        },
        "id": "ZCLrz8WQlbRI",
        "outputId": "391806f4-f2e8-4d8a-e92d-e5bc24b26f0e"
      },
      "source": [
        "# ONLYPAGES\n",
        "df_gsc_onlypages.dtypes"
      ],
      "execution_count": 15,
      "outputs": [
        {
          "output_type": "execute_result",
          "data": {
            "text/plain": [
              "date            object\n",
              "page            object\n",
              "impressions      int64\n",
              "clicks           int64\n",
              "position       float64\n",
              "ctr            float64\n",
              "dtype: object"
            ]
          },
          "metadata": {
            "tags": []
          },
          "execution_count": 15
        }
      ]
    },
    {
      "cell_type": "code",
      "metadata": {
        "colab": {
          "base_uri": "https://localhost:8080/"
        },
        "id": "JFr9-TZcl7Sb",
        "outputId": "1627d3cc-aae2-4522-a565-d8e5576c6465"
      },
      "source": [
        "# ONLYPAGES\n",
        "print('rows onlypages =',df_gsc_onlypages.shape[0])\n",
        "print('columns onlypages =',df_gsc_onlypages.shape[1])"
      ],
      "execution_count": 16,
      "outputs": [
        {
          "output_type": "stream",
          "text": [
            "rows onlypages = 1103\n",
            "columns onlypages = 6\n"
          ],
          "name": "stdout"
        }
      ]
    },
    {
      "cell_type": "markdown",
      "metadata": {
        "id": "I6yQD-Gcmr_D"
      },
      "source": [
        "#### Detail"
      ]
    },
    {
      "cell_type": "code",
      "metadata": {
        "colab": {
          "base_uri": "https://localhost:8080/",
          "height": 394
        },
        "id": "ebc4eBSZl7JJ",
        "outputId": "159d7a8a-ee8d-4d66-bd23-29e02f1d5cf4"
      },
      "source": [
        "# DETAIL\n",
        "df_gsc_detail.head()"
      ],
      "execution_count": 17,
      "outputs": [
        {
          "output_type": "execute_result",
          "data": {
            "text/html": [
              "<div>\n",
              "<style scoped>\n",
              "    .dataframe tbody tr th:only-of-type {\n",
              "        vertical-align: middle;\n",
              "    }\n",
              "\n",
              "    .dataframe tbody tr th {\n",
              "        vertical-align: top;\n",
              "    }\n",
              "\n",
              "    .dataframe thead th {\n",
              "        text-align: right;\n",
              "    }\n",
              "</style>\n",
              "<table border=\"1\" class=\"dataframe\">\n",
              "  <thead>\n",
              "    <tr style=\"text-align: right;\">\n",
              "      <th></th>\n",
              "      <th>date</th>\n",
              "      <th>query</th>\n",
              "      <th>page</th>\n",
              "      <th>device</th>\n",
              "      <th>country</th>\n",
              "      <th>countryName</th>\n",
              "      <th>impressions</th>\n",
              "      <th>clicks</th>\n",
              "      <th>position</th>\n",
              "      <th>ctr</th>\n",
              "    </tr>\n",
              "  </thead>\n",
              "  <tbody>\n",
              "    <tr>\n",
              "      <th>0</th>\n",
              "      <td>2020-12-12</td>\n",
              "      <td>$_get javascript</td>\n",
              "      <td>http://blog.ikhuerta.com/get-extraer-variables...</td>\n",
              "      <td>DESKTOP</td>\n",
              "      <td>mex</td>\n",
              "      <td>Unknown</td>\n",
              "      <td>1</td>\n",
              "      <td>1</td>\n",
              "      <td>1.0</td>\n",
              "      <td>1.0</td>\n",
              "    </tr>\n",
              "    <tr>\n",
              "      <th>1</th>\n",
              "      <td>2020-12-12</td>\n",
              "      <td>baneo permanente facebook</td>\n",
              "      <td>http://blog.ikhuerta.com/spam-y-baneo-de-aplic...</td>\n",
              "      <td>MOBILE</td>\n",
              "      <td>col</td>\n",
              "      <td>Unknown</td>\n",
              "      <td>1</td>\n",
              "      <td>1</td>\n",
              "      <td>3.0</td>\n",
              "      <td>1.0</td>\n",
              "    </tr>\n",
              "    <tr>\n",
              "      <th>2</th>\n",
              "      <td>2020-12-12</td>\n",
              "      <td>bot para twitter</td>\n",
              "      <td>http://blog.ikhuerta.com/crear-un-bot-sencillo...</td>\n",
              "      <td>DESKTOP</td>\n",
              "      <td>mex</td>\n",
              "      <td>Unknown</td>\n",
              "      <td>1</td>\n",
              "      <td>1</td>\n",
              "      <td>2.0</td>\n",
              "      <td>1.0</td>\n",
              "    </tr>\n",
              "    <tr>\n",
              "      <th>3</th>\n",
              "      <td>2020-12-12</td>\n",
              "      <td>codigo para hacer responsive una pagina web html</td>\n",
              "      <td>http://blog.ikhuerta.com/transforma-tu-web-en-...</td>\n",
              "      <td>DESKTOP</td>\n",
              "      <td>mex</td>\n",
              "      <td>Unknown</td>\n",
              "      <td>1</td>\n",
              "      <td>1</td>\n",
              "      <td>2.0</td>\n",
              "      <td>1.0</td>\n",
              "    </tr>\n",
              "    <tr>\n",
              "      <th>4</th>\n",
              "      <td>2020-12-12</td>\n",
              "      <td>como crear un bot en twitter</td>\n",
              "      <td>http://blog.ikhuerta.com/crear-un-bot-sencillo...</td>\n",
              "      <td>MOBILE</td>\n",
              "      <td>esp</td>\n",
              "      <td>Unknown</td>\n",
              "      <td>1</td>\n",
              "      <td>1</td>\n",
              "      <td>2.0</td>\n",
              "      <td>1.0</td>\n",
              "    </tr>\n",
              "  </tbody>\n",
              "</table>\n",
              "</div>"
            ],
            "text/plain": [
              "         date                                             query  ... position  ctr\n",
              "0  2020-12-12                                  $_get javascript  ...      1.0  1.0\n",
              "1  2020-12-12                         baneo permanente facebook  ...      3.0  1.0\n",
              "2  2020-12-12                                  bot para twitter  ...      2.0  1.0\n",
              "3  2020-12-12  codigo para hacer responsive una pagina web html  ...      2.0  1.0\n",
              "4  2020-12-12                      como crear un bot en twitter  ...      2.0  1.0\n",
              "\n",
              "[5 rows x 10 columns]"
            ]
          },
          "metadata": {
            "tags": []
          },
          "execution_count": 17
        }
      ]
    },
    {
      "cell_type": "code",
      "metadata": {
        "colab": {
          "base_uri": "https://localhost:8080/"
        },
        "id": "utrq5lINl67P",
        "outputId": "fc425318-7ad6-4d86-956e-0b5698ee4148"
      },
      "source": [
        "# DETAIL\n",
        "df_gsc_detail.dtypes"
      ],
      "execution_count": 18,
      "outputs": [
        {
          "output_type": "execute_result",
          "data": {
            "text/plain": [
              "date            object\n",
              "query           object\n",
              "page            object\n",
              "device          object\n",
              "country         object\n",
              "countryName     object\n",
              "impressions      int64\n",
              "clicks           int64\n",
              "position       float64\n",
              "ctr            float64\n",
              "dtype: object"
            ]
          },
          "metadata": {
            "tags": []
          },
          "execution_count": 18
        }
      ]
    },
    {
      "cell_type": "code",
      "metadata": {
        "colab": {
          "base_uri": "https://localhost:8080/"
        },
        "id": "_1ziqBo0l6qY",
        "outputId": "7a4ae2ac-6d43-4d8c-88c3-9114dd0d1539"
      },
      "source": [
        "# DETAIL\n",
        "print('rows detail =',df_gsc_detail.shape[0])\n",
        "print('columns detail =',df_gsc_detail.shape[1])"
      ],
      "execution_count": 19,
      "outputs": [
        {
          "output_type": "stream",
          "text": [
            "rows detail = 18440\n",
            "columns detail = 10\n"
          ],
          "name": "stdout"
        }
      ]
    },
    {
      "cell_type": "markdown",
      "metadata": {
        "id": "Bjl0y5QFnn5_"
      },
      "source": [
        "### GA"
      ]
    },
    {
      "cell_type": "code",
      "metadata": {
        "colab": {
          "base_uri": "https://localhost:8080/",
          "height": 204
        },
        "id": "MaJBpwZ3ntWx",
        "outputId": "cdccc659-aa85-4168-e67a-cff932e87db1"
      },
      "source": [
        "df_ga.head()"
      ],
      "execution_count": 20,
      "outputs": [
        {
          "output_type": "execute_result",
          "data": {
            "text/html": [
              "<div>\n",
              "<style scoped>\n",
              "    .dataframe tbody tr th:only-of-type {\n",
              "        vertical-align: middle;\n",
              "    }\n",
              "\n",
              "    .dataframe tbody tr th {\n",
              "        vertical-align: top;\n",
              "    }\n",
              "\n",
              "    .dataframe thead th {\n",
              "        text-align: right;\n",
              "    }\n",
              "</style>\n",
              "<table border=\"1\" class=\"dataframe\">\n",
              "  <thead>\n",
              "    <tr style=\"text-align: right;\">\n",
              "      <th></th>\n",
              "      <th>landingPagePath</th>\n",
              "      <th>date</th>\n",
              "      <th>sessions</th>\n",
              "      <th>transactions</th>\n",
              "    </tr>\n",
              "  </thead>\n",
              "  <tbody>\n",
              "    <tr>\n",
              "      <th>0</th>\n",
              "      <td>(not set)</td>\n",
              "      <td>2020-12-12</td>\n",
              "      <td>2513</td>\n",
              "      <td>7</td>\n",
              "    </tr>\n",
              "    <tr>\n",
              "      <th>1</th>\n",
              "      <td>empresas.habitissimo.cl/aire-acondicionado/ari...</td>\n",
              "      <td>2020-12-12</td>\n",
              "      <td>1</td>\n",
              "      <td>0</td>\n",
              "    </tr>\n",
              "    <tr>\n",
              "      <th>2</th>\n",
              "      <td>empresas.habitissimo.cl/aire-acondicionado/cautin</td>\n",
              "      <td>2020-12-12</td>\n",
              "      <td>1</td>\n",
              "      <td>0</td>\n",
              "    </tr>\n",
              "    <tr>\n",
              "      <th>3</th>\n",
              "      <td>empresas.habitissimo.cl/aire-acondicionado/cop...</td>\n",
              "      <td>2020-12-12</td>\n",
              "      <td>1</td>\n",
              "      <td>0</td>\n",
              "    </tr>\n",
              "    <tr>\n",
              "      <th>4</th>\n",
              "      <td>empresas.habitissimo.cl/aire-acondicionado/cor...</td>\n",
              "      <td>2020-12-12</td>\n",
              "      <td>1</td>\n",
              "      <td>0</td>\n",
              "    </tr>\n",
              "  </tbody>\n",
              "</table>\n",
              "</div>"
            ],
            "text/plain": [
              "                                     landingPagePath  ... transactions\n",
              "0                                          (not set)  ...            7\n",
              "1  empresas.habitissimo.cl/aire-acondicionado/ari...  ...            0\n",
              "2  empresas.habitissimo.cl/aire-acondicionado/cautin  ...            0\n",
              "3  empresas.habitissimo.cl/aire-acondicionado/cop...  ...            0\n",
              "4  empresas.habitissimo.cl/aire-acondicionado/cor...  ...            0\n",
              "\n",
              "[5 rows x 4 columns]"
            ]
          },
          "metadata": {
            "tags": []
          },
          "execution_count": 20
        }
      ]
    },
    {
      "cell_type": "code",
      "metadata": {
        "colab": {
          "base_uri": "https://localhost:8080/"
        },
        "id": "ZXvlIGfLns7d",
        "outputId": "191e4b85-71b6-4233-d816-679452779563"
      },
      "source": [
        "df_ga.dtypes"
      ],
      "execution_count": 21,
      "outputs": [
        {
          "output_type": "execute_result",
          "data": {
            "text/plain": [
              "landingPagePath    object\n",
              "date               object\n",
              "sessions            int64\n",
              "transactions        int64\n",
              "dtype: object"
            ]
          },
          "metadata": {
            "tags": []
          },
          "execution_count": 21
        }
      ]
    },
    {
      "cell_type": "code",
      "metadata": {
        "colab": {
          "base_uri": "https://localhost:8080/"
        },
        "id": "_yFx5ekln7pX",
        "outputId": "d7cf4032-7e69-4bb9-a524-a89317c60832"
      },
      "source": [
        "print('rows =',df_ga.shape[0])\n",
        "print('columns =',df_ga.shape[1])"
      ],
      "execution_count": 22,
      "outputs": [
        {
          "output_type": "stream",
          "text": [
            "rows = 13824\n",
            "columns = 4\n"
          ],
          "name": "stdout"
        }
      ]
    },
    {
      "cell_type": "markdown",
      "metadata": {
        "id": "C8giJwqJnChx"
      },
      "source": [
        "## Gráficos"
      ]
    },
    {
      "cell_type": "markdown",
      "metadata": {
        "id": "AFbvM7A8bm3f"
      },
      "source": [
        "### GSC"
      ]
    },
    {
      "cell_type": "code",
      "metadata": {
        "colab": {
          "base_uri": "https://localhost:8080/",
          "height": 173
        },
        "id": "y1uSV3ufINF-",
        "outputId": "376e34a2-2958-4700-b46b-055d93c76e41"
      },
      "source": [
        "# agregado clicks e impresiones por día\n",
        "df_summary_agg_date_cli_imp = df_gsc_summary[[\"date\", \"clicks\", \"impressions\"]].groupby([\"date\"]).sum()\n",
        "df_summary_agg_date_cli_imp"
      ],
      "execution_count": 23,
      "outputs": [
        {
          "output_type": "execute_result",
          "data": {
            "text/html": [
              "<div>\n",
              "<style scoped>\n",
              "    .dataframe tbody tr th:only-of-type {\n",
              "        vertical-align: middle;\n",
              "    }\n",
              "\n",
              "    .dataframe tbody tr th {\n",
              "        vertical-align: top;\n",
              "    }\n",
              "\n",
              "    .dataframe thead th {\n",
              "        text-align: right;\n",
              "    }\n",
              "</style>\n",
              "<table border=\"1\" class=\"dataframe\">\n",
              "  <thead>\n",
              "    <tr style=\"text-align: right;\">\n",
              "      <th></th>\n",
              "      <th>clicks</th>\n",
              "      <th>impressions</th>\n",
              "    </tr>\n",
              "    <tr>\n",
              "      <th>date</th>\n",
              "      <th></th>\n",
              "      <th></th>\n",
              "    </tr>\n",
              "  </thead>\n",
              "  <tbody>\n",
              "    <tr>\n",
              "      <th>2020-12-10</th>\n",
              "      <td>385</td>\n",
              "      <td>21636</td>\n",
              "    </tr>\n",
              "    <tr>\n",
              "      <th>2020-12-11</th>\n",
              "      <td>369</td>\n",
              "      <td>18183</td>\n",
              "    </tr>\n",
              "    <tr>\n",
              "      <th>2020-12-12</th>\n",
              "      <td>182</td>\n",
              "      <td>12354</td>\n",
              "    </tr>\n",
              "  </tbody>\n",
              "</table>\n",
              "</div>"
            ],
            "text/plain": [
              "            clicks  impressions\n",
              "date                           \n",
              "2020-12-10     385        21636\n",
              "2020-12-11     369        18183\n",
              "2020-12-12     182        12354"
            ]
          },
          "metadata": {
            "tags": []
          },
          "execution_count": 23
        }
      ]
    },
    {
      "cell_type": "code",
      "metadata": {
        "colab": {
          "base_uri": "https://localhost:8080/",
          "height": 542
        },
        "id": "C1nq2DVGINwA",
        "outputId": "4be06d05-5ff1-4017-d53e-b522cecdb589"
      },
      "source": [
        "# variables para el gráfico\n",
        "dates = list(df_summary_agg_date_cli_imp.index)\n",
        "clicks = list(df_summary_agg_date_cli_imp['clicks'].values)\n",
        "impressions = list(df_summary_agg_date_cli_imp['impressions'].values)\n",
        "\n",
        "# gráfico con eje-Y secundario\n",
        "fig = make_subplots(specs=[[{\"secondary_y\": True}]])\n",
        "\n",
        "\n",
        "fig.add_trace(\n",
        "    go.Scatter(x=dates, y=clicks, name=\"clicks\"),\n",
        "    secondary_y=False,\n",
        ")\n",
        "\n",
        "fig.add_trace(\n",
        "    go.Scatter(x=dates, y=impressions, name=\"impressions\"),\n",
        "    secondary_y=True,\n",
        ")\n",
        "\n",
        "# título del gráfico\n",
        "fig.update_layout(\n",
        "    title_text=\"Clicks and Impressions vs Date (GSC)\"\n",
        ")\n",
        "\n",
        "# nombre eje-X\n",
        "fig.update_xaxes(title_text=\"date\")\n",
        "\n",
        "# nombre ejes-Y\n",
        "fig.update_yaxes(title_text=\"<b>clicks</b>\", secondary_y=False)\n",
        "fig.update_yaxes(title_text=\"<b>impressions</b>\", secondary_y=True)\n",
        "\n",
        "fig.show()"
      ],
      "execution_count": 24,
      "outputs": [
        {
          "output_type": "display_data",
          "data": {
            "text/html": [
              "<html>\n",
              "<head><meta charset=\"utf-8\" /></head>\n",
              "<body>\n",
              "    <div>\n",
              "            <script src=\"https://cdnjs.cloudflare.com/ajax/libs/mathjax/2.7.5/MathJax.js?config=TeX-AMS-MML_SVG\"></script><script type=\"text/javascript\">if (window.MathJax) {MathJax.Hub.Config({SVG: {font: \"STIX-Web\"}});}</script>\n",
              "                <script type=\"text/javascript\">window.PlotlyConfig = {MathJaxConfig: 'local'};</script>\n",
              "        <script src=\"https://cdn.plot.ly/plotly-latest.min.js\"></script>    \n",
              "            <div id=\"f586acb3-89c4-4ff5-b82f-d2f819458bf6\" class=\"plotly-graph-div\" style=\"height:525px; width:100%;\"></div>\n",
              "            <script type=\"text/javascript\">\n",
              "                \n",
              "                    window.PLOTLYENV=window.PLOTLYENV || {};\n",
              "                    \n",
              "                if (document.getElementById(\"f586acb3-89c4-4ff5-b82f-d2f819458bf6\")) {\n",
              "                    Plotly.newPlot(\n",
              "                        'f586acb3-89c4-4ff5-b82f-d2f819458bf6',\n",
              "                        [{\"name\": \"clicks\", \"type\": \"scatter\", \"x\": [\"2020-12-10\", \"2020-12-11\", \"2020-12-12\"], \"xaxis\": \"x\", \"y\": [385, 369, 182], \"yaxis\": \"y\"}, {\"name\": \"impressions\", \"type\": \"scatter\", \"x\": [\"2020-12-10\", \"2020-12-11\", \"2020-12-12\"], \"xaxis\": \"x\", \"y\": [21636, 18183, 12354], \"yaxis\": \"y2\"}],\n",
              "                        {\"template\": {\"data\": {\"bar\": [{\"error_x\": {\"color\": \"#2a3f5f\"}, \"error_y\": {\"color\": \"#2a3f5f\"}, \"marker\": {\"line\": {\"color\": \"#E5ECF6\", \"width\": 0.5}}, \"type\": \"bar\"}], \"barpolar\": [{\"marker\": {\"line\": {\"color\": \"#E5ECF6\", \"width\": 0.5}}, \"type\": \"barpolar\"}], \"carpet\": [{\"aaxis\": {\"endlinecolor\": \"#2a3f5f\", \"gridcolor\": \"white\", \"linecolor\": \"white\", \"minorgridcolor\": \"white\", \"startlinecolor\": \"#2a3f5f\"}, \"baxis\": {\"endlinecolor\": \"#2a3f5f\", \"gridcolor\": \"white\", \"linecolor\": \"white\", \"minorgridcolor\": \"white\", \"startlinecolor\": \"#2a3f5f\"}, \"type\": \"carpet\"}], \"choropleth\": [{\"colorbar\": {\"outlinewidth\": 0, \"ticks\": \"\"}, \"type\": \"choropleth\"}], \"contour\": [{\"colorbar\": {\"outlinewidth\": 0, \"ticks\": \"\"}, \"colorscale\": [[0.0, \"#0d0887\"], [0.1111111111111111, \"#46039f\"], [0.2222222222222222, \"#7201a8\"], [0.3333333333333333, \"#9c179e\"], [0.4444444444444444, \"#bd3786\"], [0.5555555555555556, \"#d8576b\"], [0.6666666666666666, \"#ed7953\"], [0.7777777777777778, \"#fb9f3a\"], [0.8888888888888888, \"#fdca26\"], [1.0, \"#f0f921\"]], \"type\": \"contour\"}], \"contourcarpet\": [{\"colorbar\": {\"outlinewidth\": 0, \"ticks\": \"\"}, \"type\": \"contourcarpet\"}], \"heatmap\": [{\"colorbar\": {\"outlinewidth\": 0, \"ticks\": \"\"}, \"colorscale\": [[0.0, \"#0d0887\"], [0.1111111111111111, \"#46039f\"], [0.2222222222222222, \"#7201a8\"], [0.3333333333333333, \"#9c179e\"], [0.4444444444444444, \"#bd3786\"], [0.5555555555555556, \"#d8576b\"], [0.6666666666666666, \"#ed7953\"], [0.7777777777777778, \"#fb9f3a\"], [0.8888888888888888, \"#fdca26\"], [1.0, \"#f0f921\"]], \"type\": \"heatmap\"}], \"heatmapgl\": [{\"colorbar\": {\"outlinewidth\": 0, \"ticks\": \"\"}, \"colorscale\": [[0.0, \"#0d0887\"], [0.1111111111111111, \"#46039f\"], [0.2222222222222222, \"#7201a8\"], [0.3333333333333333, \"#9c179e\"], [0.4444444444444444, \"#bd3786\"], [0.5555555555555556, \"#d8576b\"], [0.6666666666666666, \"#ed7953\"], [0.7777777777777778, \"#fb9f3a\"], [0.8888888888888888, \"#fdca26\"], [1.0, \"#f0f921\"]], \"type\": \"heatmapgl\"}], \"histogram\": [{\"marker\": {\"colorbar\": {\"outlinewidth\": 0, \"ticks\": \"\"}}, \"type\": \"histogram\"}], \"histogram2d\": [{\"colorbar\": {\"outlinewidth\": 0, \"ticks\": \"\"}, \"colorscale\": [[0.0, \"#0d0887\"], [0.1111111111111111, \"#46039f\"], [0.2222222222222222, \"#7201a8\"], [0.3333333333333333, \"#9c179e\"], [0.4444444444444444, \"#bd3786\"], [0.5555555555555556, \"#d8576b\"], [0.6666666666666666, \"#ed7953\"], [0.7777777777777778, \"#fb9f3a\"], [0.8888888888888888, \"#fdca26\"], [1.0, \"#f0f921\"]], \"type\": \"histogram2d\"}], \"histogram2dcontour\": [{\"colorbar\": {\"outlinewidth\": 0, \"ticks\": \"\"}, \"colorscale\": [[0.0, \"#0d0887\"], [0.1111111111111111, \"#46039f\"], [0.2222222222222222, \"#7201a8\"], [0.3333333333333333, \"#9c179e\"], [0.4444444444444444, \"#bd3786\"], [0.5555555555555556, \"#d8576b\"], [0.6666666666666666, \"#ed7953\"], [0.7777777777777778, \"#fb9f3a\"], [0.8888888888888888, \"#fdca26\"], [1.0, \"#f0f921\"]], \"type\": \"histogram2dcontour\"}], \"mesh3d\": [{\"colorbar\": {\"outlinewidth\": 0, \"ticks\": \"\"}, \"type\": \"mesh3d\"}], \"parcoords\": [{\"line\": {\"colorbar\": {\"outlinewidth\": 0, \"ticks\": \"\"}}, \"type\": \"parcoords\"}], \"pie\": [{\"automargin\": true, \"type\": \"pie\"}], \"scatter\": [{\"marker\": {\"colorbar\": {\"outlinewidth\": 0, \"ticks\": \"\"}}, \"type\": \"scatter\"}], \"scatter3d\": [{\"line\": {\"colorbar\": {\"outlinewidth\": 0, \"ticks\": \"\"}}, \"marker\": {\"colorbar\": {\"outlinewidth\": 0, \"ticks\": \"\"}}, \"type\": \"scatter3d\"}], \"scattercarpet\": [{\"marker\": {\"colorbar\": {\"outlinewidth\": 0, \"ticks\": \"\"}}, \"type\": \"scattercarpet\"}], \"scattergeo\": [{\"marker\": {\"colorbar\": {\"outlinewidth\": 0, \"ticks\": \"\"}}, \"type\": \"scattergeo\"}], \"scattergl\": [{\"marker\": {\"colorbar\": {\"outlinewidth\": 0, \"ticks\": \"\"}}, \"type\": \"scattergl\"}], \"scattermapbox\": [{\"marker\": {\"colorbar\": {\"outlinewidth\": 0, \"ticks\": \"\"}}, \"type\": \"scattermapbox\"}], \"scatterpolar\": [{\"marker\": {\"colorbar\": {\"outlinewidth\": 0, \"ticks\": \"\"}}, \"type\": \"scatterpolar\"}], \"scatterpolargl\": [{\"marker\": {\"colorbar\": {\"outlinewidth\": 0, \"ticks\": \"\"}}, \"type\": \"scatterpolargl\"}], \"scatterternary\": [{\"marker\": {\"colorbar\": {\"outlinewidth\": 0, \"ticks\": \"\"}}, \"type\": \"scatterternary\"}], \"surface\": [{\"colorbar\": {\"outlinewidth\": 0, \"ticks\": \"\"}, \"colorscale\": [[0.0, \"#0d0887\"], [0.1111111111111111, \"#46039f\"], [0.2222222222222222, \"#7201a8\"], [0.3333333333333333, \"#9c179e\"], [0.4444444444444444, \"#bd3786\"], [0.5555555555555556, \"#d8576b\"], [0.6666666666666666, \"#ed7953\"], [0.7777777777777778, \"#fb9f3a\"], [0.8888888888888888, \"#fdca26\"], [1.0, \"#f0f921\"]], \"type\": \"surface\"}], \"table\": [{\"cells\": {\"fill\": {\"color\": \"#EBF0F8\"}, \"line\": {\"color\": \"white\"}}, \"header\": {\"fill\": {\"color\": \"#C8D4E3\"}, \"line\": {\"color\": \"white\"}}, \"type\": \"table\"}]}, \"layout\": {\"annotationdefaults\": {\"arrowcolor\": \"#2a3f5f\", \"arrowhead\": 0, \"arrowwidth\": 1}, \"coloraxis\": {\"colorbar\": {\"outlinewidth\": 0, \"ticks\": \"\"}}, \"colorscale\": {\"diverging\": [[0, \"#8e0152\"], [0.1, \"#c51b7d\"], [0.2, \"#de77ae\"], [0.3, \"#f1b6da\"], [0.4, \"#fde0ef\"], [0.5, \"#f7f7f7\"], [0.6, \"#e6f5d0\"], [0.7, \"#b8e186\"], [0.8, \"#7fbc41\"], [0.9, \"#4d9221\"], [1, \"#276419\"]], \"sequential\": [[0.0, \"#0d0887\"], [0.1111111111111111, \"#46039f\"], [0.2222222222222222, \"#7201a8\"], [0.3333333333333333, \"#9c179e\"], [0.4444444444444444, \"#bd3786\"], [0.5555555555555556, \"#d8576b\"], [0.6666666666666666, \"#ed7953\"], [0.7777777777777778, \"#fb9f3a\"], [0.8888888888888888, \"#fdca26\"], [1.0, \"#f0f921\"]], \"sequentialminus\": [[0.0, \"#0d0887\"], [0.1111111111111111, \"#46039f\"], [0.2222222222222222, \"#7201a8\"], [0.3333333333333333, \"#9c179e\"], [0.4444444444444444, \"#bd3786\"], [0.5555555555555556, \"#d8576b\"], [0.6666666666666666, \"#ed7953\"], [0.7777777777777778, \"#fb9f3a\"], [0.8888888888888888, \"#fdca26\"], [1.0, \"#f0f921\"]]}, \"colorway\": [\"#636efa\", \"#EF553B\", \"#00cc96\", \"#ab63fa\", \"#FFA15A\", \"#19d3f3\", \"#FF6692\", \"#B6E880\", \"#FF97FF\", \"#FECB52\"], \"font\": {\"color\": \"#2a3f5f\"}, \"geo\": {\"bgcolor\": \"white\", \"lakecolor\": \"white\", \"landcolor\": \"#E5ECF6\", \"showlakes\": true, \"showland\": true, \"subunitcolor\": \"white\"}, \"hoverlabel\": {\"align\": \"left\"}, \"hovermode\": \"closest\", \"mapbox\": {\"style\": \"light\"}, \"paper_bgcolor\": \"white\", \"plot_bgcolor\": \"#E5ECF6\", \"polar\": {\"angularaxis\": {\"gridcolor\": \"white\", \"linecolor\": \"white\", \"ticks\": \"\"}, \"bgcolor\": \"#E5ECF6\", \"radialaxis\": {\"gridcolor\": \"white\", \"linecolor\": \"white\", \"ticks\": \"\"}}, \"scene\": {\"xaxis\": {\"backgroundcolor\": \"#E5ECF6\", \"gridcolor\": \"white\", \"gridwidth\": 2, \"linecolor\": \"white\", \"showbackground\": true, \"ticks\": \"\", \"zerolinecolor\": \"white\"}, \"yaxis\": {\"backgroundcolor\": \"#E5ECF6\", \"gridcolor\": \"white\", \"gridwidth\": 2, \"linecolor\": \"white\", \"showbackground\": true, \"ticks\": \"\", \"zerolinecolor\": \"white\"}, \"zaxis\": {\"backgroundcolor\": \"#E5ECF6\", \"gridcolor\": \"white\", \"gridwidth\": 2, \"linecolor\": \"white\", \"showbackground\": true, \"ticks\": \"\", \"zerolinecolor\": \"white\"}}, \"shapedefaults\": {\"line\": {\"color\": \"#2a3f5f\"}}, \"ternary\": {\"aaxis\": {\"gridcolor\": \"white\", \"linecolor\": \"white\", \"ticks\": \"\"}, \"baxis\": {\"gridcolor\": \"white\", \"linecolor\": \"white\", \"ticks\": \"\"}, \"bgcolor\": \"#E5ECF6\", \"caxis\": {\"gridcolor\": \"white\", \"linecolor\": \"white\", \"ticks\": \"\"}}, \"title\": {\"x\": 0.05}, \"xaxis\": {\"automargin\": true, \"gridcolor\": \"white\", \"linecolor\": \"white\", \"ticks\": \"\", \"title\": {\"standoff\": 15}, \"zerolinecolor\": \"white\", \"zerolinewidth\": 2}, \"yaxis\": {\"automargin\": true, \"gridcolor\": \"white\", \"linecolor\": \"white\", \"ticks\": \"\", \"title\": {\"standoff\": 15}, \"zerolinecolor\": \"white\", \"zerolinewidth\": 2}}}, \"title\": {\"text\": \"Clicks and Impressions vs Date (GSC)\"}, \"xaxis\": {\"anchor\": \"y\", \"domain\": [0.0, 0.94], \"title\": {\"text\": \"date\"}}, \"yaxis\": {\"anchor\": \"x\", \"domain\": [0.0, 1.0], \"title\": {\"text\": \"<b>clicks</b>\"}}, \"yaxis2\": {\"anchor\": \"x\", \"overlaying\": \"y\", \"side\": \"right\", \"title\": {\"text\": \"<b>impressions</b>\"}}},\n",
              "                        {\"responsive\": true}\n",
              "                    ).then(function(){\n",
              "                            \n",
              "var gd = document.getElementById('f586acb3-89c4-4ff5-b82f-d2f819458bf6');\n",
              "var x = new MutationObserver(function (mutations, observer) {{\n",
              "        var display = window.getComputedStyle(gd).display;\n",
              "        if (!display || display === 'none') {{\n",
              "            console.log([gd, 'removed!']);\n",
              "            Plotly.purge(gd);\n",
              "            observer.disconnect();\n",
              "        }}\n",
              "}});\n",
              "\n",
              "// Listen for the removal of the full notebook cells\n",
              "var notebookContainer = gd.closest('#notebook-container');\n",
              "if (notebookContainer) {{\n",
              "    x.observe(notebookContainer, {childList: true});\n",
              "}}\n",
              "\n",
              "// Listen for the clearing of the current output cell\n",
              "var outputEl = gd.closest('.output');\n",
              "if (outputEl) {{\n",
              "    x.observe(outputEl, {childList: true});\n",
              "}}\n",
              "\n",
              "                        })\n",
              "                };\n",
              "                \n",
              "            </script>\n",
              "        </div>\n",
              "</body>\n",
              "</html>"
            ]
          },
          "metadata": {
            "tags": []
          }
        }
      ]
    },
    {
      "cell_type": "markdown",
      "metadata": {
        "id": "4jPBmGELIuNI"
      },
      "source": [
        "### GA"
      ]
    },
    {
      "cell_type": "code",
      "metadata": {
        "colab": {
          "base_uri": "https://localhost:8080/",
          "height": 173
        },
        "id": "wdrhbZGGIvfm",
        "outputId": "7ee16955-960b-493b-8459-28b2e24c82df"
      },
      "source": [
        "# agregado transacciones y sesiones por día\n",
        "df_ga_agg_date_sess_tr = df_ga[[\"date\", \"transactions\", \"sessions\"]].groupby([\"date\"]).sum()\n",
        "df_ga_agg_date_sess_tr"
      ],
      "execution_count": 25,
      "outputs": [
        {
          "output_type": "execute_result",
          "data": {
            "text/html": [
              "<div>\n",
              "<style scoped>\n",
              "    .dataframe tbody tr th:only-of-type {\n",
              "        vertical-align: middle;\n",
              "    }\n",
              "\n",
              "    .dataframe tbody tr th {\n",
              "        vertical-align: top;\n",
              "    }\n",
              "\n",
              "    .dataframe thead th {\n",
              "        text-align: right;\n",
              "    }\n",
              "</style>\n",
              "<table border=\"1\" class=\"dataframe\">\n",
              "  <thead>\n",
              "    <tr style=\"text-align: right;\">\n",
              "      <th></th>\n",
              "      <th>transactions</th>\n",
              "      <th>sessions</th>\n",
              "    </tr>\n",
              "    <tr>\n",
              "      <th>date</th>\n",
              "      <th></th>\n",
              "      <th></th>\n",
              "    </tr>\n",
              "  </thead>\n",
              "  <tbody>\n",
              "    <tr>\n",
              "      <th>2020-12-10</th>\n",
              "      <td>523</td>\n",
              "      <td>13714</td>\n",
              "    </tr>\n",
              "    <tr>\n",
              "      <th>2020-12-11</th>\n",
              "      <td>352</td>\n",
              "      <td>11595</td>\n",
              "    </tr>\n",
              "    <tr>\n",
              "      <th>2020-12-12</th>\n",
              "      <td>427</td>\n",
              "      <td>11657</td>\n",
              "    </tr>\n",
              "  </tbody>\n",
              "</table>\n",
              "</div>"
            ],
            "text/plain": [
              "            transactions  sessions\n",
              "date                              \n",
              "2020-12-10           523     13714\n",
              "2020-12-11           352     11595\n",
              "2020-12-12           427     11657"
            ]
          },
          "metadata": {
            "tags": []
          },
          "execution_count": 25
        }
      ]
    },
    {
      "cell_type": "code",
      "metadata": {
        "colab": {
          "base_uri": "https://localhost:8080/",
          "height": 542
        },
        "id": "TV6Iq8rEI_B9",
        "outputId": "6feda348-184b-4643-df3f-d144b3b8128d"
      },
      "source": [
        "# define variables for the plot\n",
        "dates = list(df_ga_agg_date_sess_tr.index)\n",
        "sessions = list(df_ga_agg_date_sess_tr['sessions'].values)\n",
        "transactions = list(df_ga_agg_date_sess_tr['transactions'].values)\n",
        "\n",
        "# Create figure with secondary y-axis\n",
        "fig = make_subplots(specs=[[{\"secondary_y\": True}]])\n",
        "\n",
        "# Add traces\n",
        "fig.add_trace(\n",
        "    go.Scatter(x=dates, y=sessions, name=\"sessions\"),\n",
        "    secondary_y=False,\n",
        ")\n",
        "\n",
        "fig.add_trace(\n",
        "    go.Scatter(x=dates, y=transactions, name=\"transactions\"),\n",
        "    secondary_y=True,\n",
        ")\n",
        "\n",
        "# Add figure title\n",
        "fig.update_layout(\n",
        "    title_text=\"Sessions and Transactions vs Date (GA)\"\n",
        ")\n",
        "\n",
        "# Set x-axis title\n",
        "fig.update_xaxes(title_text=\"date\")\n",
        "\n",
        "# Set y-axes titles\n",
        "fig.update_yaxes(title_text=\"<b>sessions</b>\", secondary_y=False)\n",
        "fig.update_yaxes(title_text=\"<b>transactions</b>\", secondary_y=True)\n",
        "\n",
        "fig.show()"
      ],
      "execution_count": 26,
      "outputs": [
        {
          "output_type": "display_data",
          "data": {
            "text/html": [
              "<html>\n",
              "<head><meta charset=\"utf-8\" /></head>\n",
              "<body>\n",
              "    <div>\n",
              "            <script src=\"https://cdnjs.cloudflare.com/ajax/libs/mathjax/2.7.5/MathJax.js?config=TeX-AMS-MML_SVG\"></script><script type=\"text/javascript\">if (window.MathJax) {MathJax.Hub.Config({SVG: {font: \"STIX-Web\"}});}</script>\n",
              "                <script type=\"text/javascript\">window.PlotlyConfig = {MathJaxConfig: 'local'};</script>\n",
              "        <script src=\"https://cdn.plot.ly/plotly-latest.min.js\"></script>    \n",
              "            <div id=\"ad9f0ab8-199f-4ca9-92d7-c77ee08c4ef0\" class=\"plotly-graph-div\" style=\"height:525px; width:100%;\"></div>\n",
              "            <script type=\"text/javascript\">\n",
              "                \n",
              "                    window.PLOTLYENV=window.PLOTLYENV || {};\n",
              "                    \n",
              "                if (document.getElementById(\"ad9f0ab8-199f-4ca9-92d7-c77ee08c4ef0\")) {\n",
              "                    Plotly.newPlot(\n",
              "                        'ad9f0ab8-199f-4ca9-92d7-c77ee08c4ef0',\n",
              "                        [{\"name\": \"sessions\", \"type\": \"scatter\", \"x\": [\"2020-12-10\", \"2020-12-11\", \"2020-12-12\"], \"xaxis\": \"x\", \"y\": [13714, 11595, 11657], \"yaxis\": \"y\"}, {\"name\": \"transactions\", \"type\": \"scatter\", \"x\": [\"2020-12-10\", \"2020-12-11\", \"2020-12-12\"], \"xaxis\": \"x\", \"y\": [523, 352, 427], \"yaxis\": \"y2\"}],\n",
              "                        {\"template\": {\"data\": {\"bar\": [{\"error_x\": {\"color\": \"#2a3f5f\"}, \"error_y\": {\"color\": \"#2a3f5f\"}, \"marker\": {\"line\": {\"color\": \"#E5ECF6\", \"width\": 0.5}}, \"type\": \"bar\"}], \"barpolar\": [{\"marker\": {\"line\": {\"color\": \"#E5ECF6\", \"width\": 0.5}}, \"type\": \"barpolar\"}], \"carpet\": [{\"aaxis\": {\"endlinecolor\": \"#2a3f5f\", \"gridcolor\": \"white\", \"linecolor\": \"white\", \"minorgridcolor\": \"white\", \"startlinecolor\": \"#2a3f5f\"}, \"baxis\": {\"endlinecolor\": \"#2a3f5f\", \"gridcolor\": \"white\", \"linecolor\": \"white\", \"minorgridcolor\": \"white\", \"startlinecolor\": \"#2a3f5f\"}, \"type\": \"carpet\"}], \"choropleth\": [{\"colorbar\": {\"outlinewidth\": 0, \"ticks\": \"\"}, \"type\": \"choropleth\"}], \"contour\": [{\"colorbar\": {\"outlinewidth\": 0, \"ticks\": \"\"}, \"colorscale\": [[0.0, \"#0d0887\"], [0.1111111111111111, \"#46039f\"], [0.2222222222222222, \"#7201a8\"], [0.3333333333333333, \"#9c179e\"], [0.4444444444444444, \"#bd3786\"], [0.5555555555555556, \"#d8576b\"], [0.6666666666666666, \"#ed7953\"], [0.7777777777777778, \"#fb9f3a\"], [0.8888888888888888, \"#fdca26\"], [1.0, \"#f0f921\"]], \"type\": \"contour\"}], \"contourcarpet\": [{\"colorbar\": {\"outlinewidth\": 0, \"ticks\": \"\"}, \"type\": \"contourcarpet\"}], \"heatmap\": [{\"colorbar\": {\"outlinewidth\": 0, \"ticks\": \"\"}, \"colorscale\": [[0.0, \"#0d0887\"], [0.1111111111111111, \"#46039f\"], [0.2222222222222222, \"#7201a8\"], [0.3333333333333333, \"#9c179e\"], [0.4444444444444444, \"#bd3786\"], [0.5555555555555556, \"#d8576b\"], [0.6666666666666666, \"#ed7953\"], [0.7777777777777778, \"#fb9f3a\"], [0.8888888888888888, \"#fdca26\"], [1.0, \"#f0f921\"]], \"type\": \"heatmap\"}], \"heatmapgl\": [{\"colorbar\": {\"outlinewidth\": 0, \"ticks\": \"\"}, \"colorscale\": [[0.0, \"#0d0887\"], [0.1111111111111111, \"#46039f\"], [0.2222222222222222, \"#7201a8\"], [0.3333333333333333, \"#9c179e\"], [0.4444444444444444, \"#bd3786\"], [0.5555555555555556, \"#d8576b\"], [0.6666666666666666, \"#ed7953\"], [0.7777777777777778, \"#fb9f3a\"], [0.8888888888888888, \"#fdca26\"], [1.0, \"#f0f921\"]], \"type\": \"heatmapgl\"}], \"histogram\": [{\"marker\": {\"colorbar\": {\"outlinewidth\": 0, \"ticks\": \"\"}}, \"type\": \"histogram\"}], \"histogram2d\": [{\"colorbar\": {\"outlinewidth\": 0, \"ticks\": \"\"}, \"colorscale\": [[0.0, \"#0d0887\"], [0.1111111111111111, \"#46039f\"], [0.2222222222222222, \"#7201a8\"], [0.3333333333333333, \"#9c179e\"], [0.4444444444444444, \"#bd3786\"], [0.5555555555555556, \"#d8576b\"], [0.6666666666666666, \"#ed7953\"], [0.7777777777777778, \"#fb9f3a\"], [0.8888888888888888, \"#fdca26\"], [1.0, \"#f0f921\"]], \"type\": \"histogram2d\"}], \"histogram2dcontour\": [{\"colorbar\": {\"outlinewidth\": 0, \"ticks\": \"\"}, \"colorscale\": [[0.0, \"#0d0887\"], [0.1111111111111111, \"#46039f\"], [0.2222222222222222, \"#7201a8\"], [0.3333333333333333, \"#9c179e\"], [0.4444444444444444, \"#bd3786\"], [0.5555555555555556, \"#d8576b\"], [0.6666666666666666, \"#ed7953\"], [0.7777777777777778, \"#fb9f3a\"], [0.8888888888888888, \"#fdca26\"], [1.0, \"#f0f921\"]], \"type\": \"histogram2dcontour\"}], \"mesh3d\": [{\"colorbar\": {\"outlinewidth\": 0, \"ticks\": \"\"}, \"type\": \"mesh3d\"}], \"parcoords\": [{\"line\": {\"colorbar\": {\"outlinewidth\": 0, \"ticks\": \"\"}}, \"type\": \"parcoords\"}], \"pie\": [{\"automargin\": true, \"type\": \"pie\"}], \"scatter\": [{\"marker\": {\"colorbar\": {\"outlinewidth\": 0, \"ticks\": \"\"}}, \"type\": \"scatter\"}], \"scatter3d\": [{\"line\": {\"colorbar\": {\"outlinewidth\": 0, \"ticks\": \"\"}}, \"marker\": {\"colorbar\": {\"outlinewidth\": 0, \"ticks\": \"\"}}, \"type\": \"scatter3d\"}], \"scattercarpet\": [{\"marker\": {\"colorbar\": {\"outlinewidth\": 0, \"ticks\": \"\"}}, \"type\": \"scattercarpet\"}], \"scattergeo\": [{\"marker\": {\"colorbar\": {\"outlinewidth\": 0, \"ticks\": \"\"}}, \"type\": \"scattergeo\"}], \"scattergl\": [{\"marker\": {\"colorbar\": {\"outlinewidth\": 0, \"ticks\": \"\"}}, \"type\": \"scattergl\"}], \"scattermapbox\": [{\"marker\": {\"colorbar\": {\"outlinewidth\": 0, \"ticks\": \"\"}}, \"type\": \"scattermapbox\"}], \"scatterpolar\": [{\"marker\": {\"colorbar\": {\"outlinewidth\": 0, \"ticks\": \"\"}}, \"type\": \"scatterpolar\"}], \"scatterpolargl\": [{\"marker\": {\"colorbar\": {\"outlinewidth\": 0, \"ticks\": \"\"}}, \"type\": \"scatterpolargl\"}], \"scatterternary\": [{\"marker\": {\"colorbar\": {\"outlinewidth\": 0, \"ticks\": \"\"}}, \"type\": \"scatterternary\"}], \"surface\": [{\"colorbar\": {\"outlinewidth\": 0, \"ticks\": \"\"}, \"colorscale\": [[0.0, \"#0d0887\"], [0.1111111111111111, \"#46039f\"], [0.2222222222222222, \"#7201a8\"], [0.3333333333333333, \"#9c179e\"], [0.4444444444444444, \"#bd3786\"], [0.5555555555555556, \"#d8576b\"], [0.6666666666666666, \"#ed7953\"], [0.7777777777777778, \"#fb9f3a\"], [0.8888888888888888, \"#fdca26\"], [1.0, \"#f0f921\"]], \"type\": \"surface\"}], \"table\": [{\"cells\": {\"fill\": {\"color\": \"#EBF0F8\"}, \"line\": {\"color\": \"white\"}}, \"header\": {\"fill\": {\"color\": \"#C8D4E3\"}, \"line\": {\"color\": \"white\"}}, \"type\": \"table\"}]}, \"layout\": {\"annotationdefaults\": {\"arrowcolor\": \"#2a3f5f\", \"arrowhead\": 0, \"arrowwidth\": 1}, \"coloraxis\": {\"colorbar\": {\"outlinewidth\": 0, \"ticks\": \"\"}}, \"colorscale\": {\"diverging\": [[0, \"#8e0152\"], [0.1, \"#c51b7d\"], [0.2, \"#de77ae\"], [0.3, \"#f1b6da\"], [0.4, \"#fde0ef\"], [0.5, \"#f7f7f7\"], [0.6, \"#e6f5d0\"], [0.7, \"#b8e186\"], [0.8, \"#7fbc41\"], [0.9, \"#4d9221\"], [1, \"#276419\"]], \"sequential\": [[0.0, \"#0d0887\"], [0.1111111111111111, \"#46039f\"], [0.2222222222222222, \"#7201a8\"], [0.3333333333333333, \"#9c179e\"], [0.4444444444444444, \"#bd3786\"], [0.5555555555555556, \"#d8576b\"], [0.6666666666666666, \"#ed7953\"], [0.7777777777777778, \"#fb9f3a\"], [0.8888888888888888, \"#fdca26\"], [1.0, \"#f0f921\"]], \"sequentialminus\": [[0.0, \"#0d0887\"], [0.1111111111111111, \"#46039f\"], [0.2222222222222222, \"#7201a8\"], [0.3333333333333333, \"#9c179e\"], [0.4444444444444444, \"#bd3786\"], [0.5555555555555556, \"#d8576b\"], [0.6666666666666666, \"#ed7953\"], [0.7777777777777778, \"#fb9f3a\"], [0.8888888888888888, \"#fdca26\"], [1.0, \"#f0f921\"]]}, \"colorway\": [\"#636efa\", \"#EF553B\", \"#00cc96\", \"#ab63fa\", \"#FFA15A\", \"#19d3f3\", \"#FF6692\", \"#B6E880\", \"#FF97FF\", \"#FECB52\"], \"font\": {\"color\": \"#2a3f5f\"}, \"geo\": {\"bgcolor\": \"white\", \"lakecolor\": \"white\", \"landcolor\": \"#E5ECF6\", \"showlakes\": true, \"showland\": true, \"subunitcolor\": \"white\"}, \"hoverlabel\": {\"align\": \"left\"}, \"hovermode\": \"closest\", \"mapbox\": {\"style\": \"light\"}, \"paper_bgcolor\": \"white\", \"plot_bgcolor\": \"#E5ECF6\", \"polar\": {\"angularaxis\": {\"gridcolor\": \"white\", \"linecolor\": \"white\", \"ticks\": \"\"}, \"bgcolor\": \"#E5ECF6\", \"radialaxis\": {\"gridcolor\": \"white\", \"linecolor\": \"white\", \"ticks\": \"\"}}, \"scene\": {\"xaxis\": {\"backgroundcolor\": \"#E5ECF6\", \"gridcolor\": \"white\", \"gridwidth\": 2, \"linecolor\": \"white\", \"showbackground\": true, \"ticks\": \"\", \"zerolinecolor\": \"white\"}, \"yaxis\": {\"backgroundcolor\": \"#E5ECF6\", \"gridcolor\": \"white\", \"gridwidth\": 2, \"linecolor\": \"white\", \"showbackground\": true, \"ticks\": \"\", \"zerolinecolor\": \"white\"}, \"zaxis\": {\"backgroundcolor\": \"#E5ECF6\", \"gridcolor\": \"white\", \"gridwidth\": 2, \"linecolor\": \"white\", \"showbackground\": true, \"ticks\": \"\", \"zerolinecolor\": \"white\"}}, \"shapedefaults\": {\"line\": {\"color\": \"#2a3f5f\"}}, \"ternary\": {\"aaxis\": {\"gridcolor\": \"white\", \"linecolor\": \"white\", \"ticks\": \"\"}, \"baxis\": {\"gridcolor\": \"white\", \"linecolor\": \"white\", \"ticks\": \"\"}, \"bgcolor\": \"#E5ECF6\", \"caxis\": {\"gridcolor\": \"white\", \"linecolor\": \"white\", \"ticks\": \"\"}}, \"title\": {\"x\": 0.05}, \"xaxis\": {\"automargin\": true, \"gridcolor\": \"white\", \"linecolor\": \"white\", \"ticks\": \"\", \"title\": {\"standoff\": 15}, \"zerolinecolor\": \"white\", \"zerolinewidth\": 2}, \"yaxis\": {\"automargin\": true, \"gridcolor\": \"white\", \"linecolor\": \"white\", \"ticks\": \"\", \"title\": {\"standoff\": 15}, \"zerolinecolor\": \"white\", \"zerolinewidth\": 2}}}, \"title\": {\"text\": \"Sessions and Transactions vs Date (GA)\"}, \"xaxis\": {\"anchor\": \"y\", \"domain\": [0.0, 0.94], \"title\": {\"text\": \"date\"}}, \"yaxis\": {\"anchor\": \"x\", \"domain\": [0.0, 1.0], \"title\": {\"text\": \"<b>sessions</b>\"}}, \"yaxis2\": {\"anchor\": \"x\", \"overlaying\": \"y\", \"side\": \"right\", \"title\": {\"text\": \"<b>transactions</b>\"}}},\n",
              "                        {\"responsive\": true}\n",
              "                    ).then(function(){\n",
              "                            \n",
              "var gd = document.getElementById('ad9f0ab8-199f-4ca9-92d7-c77ee08c4ef0');\n",
              "var x = new MutationObserver(function (mutations, observer) {{\n",
              "        var display = window.getComputedStyle(gd).display;\n",
              "        if (!display || display === 'none') {{\n",
              "            console.log([gd, 'removed!']);\n",
              "            Plotly.purge(gd);\n",
              "            observer.disconnect();\n",
              "        }}\n",
              "}});\n",
              "\n",
              "// Listen for the removal of the full notebook cells\n",
              "var notebookContainer = gd.closest('#notebook-container');\n",
              "if (notebookContainer) {{\n",
              "    x.observe(notebookContainer, {childList: true});\n",
              "}}\n",
              "\n",
              "// Listen for the clearing of the current output cell\n",
              "var outputEl = gd.closest('.output');\n",
              "if (outputEl) {{\n",
              "    x.observe(outputEl, {childList: true});\n",
              "}}\n",
              "\n",
              "                        })\n",
              "                };\n",
              "                \n",
              "            </script>\n",
              "        </div>\n",
              "</body>\n",
              "</html>"
            ]
          },
          "metadata": {
            "tags": []
          }
        }
      ]
    },
    {
      "cell_type": "code",
      "metadata": {
        "id": "OP0mZKPEJGCF"
      },
      "source": [
        ""
      ],
      "execution_count": 26,
      "outputs": []
    }
  ]
}